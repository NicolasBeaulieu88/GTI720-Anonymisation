{
 "cells": [
  {
   "cell_type": "markdown",
   "id": "ac2d87a6",
   "metadata": {},
   "source": [
    "# GTI720 - Protection des renseignements personnels\n",
    "\n",
    "## Laboratoire 1"
   ]
  },
  {
   "cell_type": "markdown",
   "id": "ae1870aa",
   "metadata": {},
   "source": [
    "| NOMS                  | CODE PERMANENT                                   |\n",
    "|-----------------------|--------------------------------------------------|\n",
    "| Étudiant1             | Code1                                            |\n",
    "| Étudiant2             | Code2                                            |\n",
    "| Étudiant3             | Code3                                            |"
   ]
  },
  {
   "attachments": {},
   "cell_type": "markdown",
   "id": "8c891744-5658-453e-b9cc-5493a49992f4",
   "metadata": {},
   "source": [
    "## Description\n",
    "Le but de ce laboratoire est de vous familiariser aux enjeux de vie privée des données dépersonnalisées et aggrégées ainsi qu'aux propriétés de k-anonymat et de l-diversité. On utilisera ici une version modifiée (contenant des `DCP`) du jeu de données [UCI Adult Income](https://archive.ics.uci.edu/ml/datasets/adult) contenant des informations démographiques du recensement américain de 1994. Ce laboratoire est réalisé avec Python et les librairies `pandas`, `numpy` et `matplotlib`."
   ]
  },
  {
   "attachments": {},
   "cell_type": "markdown",
   "id": "4438230a-92c1-4438-adcd-bae93c85ead1",
   "metadata": {},
   "source": [
    "## Partie 0: Installation de l'environnement de travail (5pts)"
   ]
  },
  {
   "attachments": {},
   "cell_type": "markdown",
   "id": "d36af591-f022-442b-a053-384db28795c0",
   "metadata": {},
   "source": [
    "**Question 0** [5 pts]:\n",
    "- Installer Python >= 3.9.10\n",
    "- Installer un environnement virtuel python `gti720`. Cet environnement contiendra les librairies python indispensables à la réalisation de ce laboratoire\n",
    "- Installer les librairies suivantes dans votre environnement virtuel\n",
    "    - `pandas`\n",
    "    - `numpy`\n",
    "    - `matplotlib`\n",
    "    - `jupyterlab` (optionel si vous utilisez un éditeur comme VS Code)"
   ]
  },
  {
   "attachments": {},
   "cell_type": "markdown",
   "id": "8776c2d1-722b-4e14-8b78-4b3f50f45bd4",
   "metadata": {
    "tags": []
   },
   "source": [
    "## Partie 1: Attaques ciblant un jeu de données dépersonnalisées (31 pts)\n",
    "Un renseignement personnel est `dépersonnalisé` si ce dernier ne permet plus d’identifier *directement* la personne concernée. La dépersonnilisation consiste donc à retirer les identifiants directs du jeu de données."
   ]
  },
  {
   "cell_type": "code",
   "execution_count": 1,
   "id": "c466e764-2d8c-49a9-9348-ff2a1db2be5d",
   "metadata": {},
   "outputs": [],
   "source": [
    "# importation des librairies\n",
    "import pandas as pd\n",
    "import numpy as np\n",
    "import matplotlib.pyplot as plt"
   ]
  },
  {
   "cell_type": "code",
   "execution_count": 2,
   "id": "2d680db0-67dd-43b9-b1c1-6e9df46f342e",
   "metadata": {},
   "outputs": [],
   "source": [
    "# importation du jeu de données\n",
    "adult = pd.read_csv('https://github.com/tisl-lab/data-privacy-class/blob/main/data/adult_with_pii.csv?raw=true')"
   ]
  },
  {
   "cell_type": "code",
   "execution_count": 3,
   "id": "939c0515-9e15-416a-a0b4-032b21d44ee4",
   "metadata": {},
   "outputs": [
    {
     "data": {
      "text/html": [
       "<div>\n",
       "<style scoped>\n",
       "    .dataframe tbody tr th:only-of-type {\n",
       "        vertical-align: middle;\n",
       "    }\n",
       "\n",
       "    .dataframe tbody tr th {\n",
       "        vertical-align: top;\n",
       "    }\n",
       "\n",
       "    .dataframe thead th {\n",
       "        text-align: right;\n",
       "    }\n",
       "</style>\n",
       "<table border=\"1\" class=\"dataframe\">\n",
       "  <thead>\n",
       "    <tr style=\"text-align: right;\">\n",
       "      <th></th>\n",
       "      <th>Name</th>\n",
       "      <th>DOB</th>\n",
       "      <th>SSN</th>\n",
       "      <th>Zip</th>\n",
       "      <th>Age</th>\n",
       "      <th>Workclass</th>\n",
       "      <th>fnlwgt</th>\n",
       "      <th>Education</th>\n",
       "      <th>Education-Num</th>\n",
       "      <th>Marital Status</th>\n",
       "      <th>Occupation</th>\n",
       "      <th>Relationship</th>\n",
       "      <th>Race</th>\n",
       "      <th>Sex</th>\n",
       "      <th>Capital Gain</th>\n",
       "      <th>Capital Loss</th>\n",
       "      <th>Hours per week</th>\n",
       "      <th>Country</th>\n",
       "      <th>Target</th>\n",
       "    </tr>\n",
       "  </thead>\n",
       "  <tbody>\n",
       "    <tr>\n",
       "      <th>0</th>\n",
       "      <td>Karrie Trusslove</td>\n",
       "      <td>9/7/1967</td>\n",
       "      <td>732-14-6110</td>\n",
       "      <td>64152</td>\n",
       "      <td>39</td>\n",
       "      <td>State-gov</td>\n",
       "      <td>77516</td>\n",
       "      <td>Bachelors</td>\n",
       "      <td>13</td>\n",
       "      <td>Never-married</td>\n",
       "      <td>Adm-clerical</td>\n",
       "      <td>Not-in-family</td>\n",
       "      <td>White</td>\n",
       "      <td>Male</td>\n",
       "      <td>2174</td>\n",
       "      <td>0</td>\n",
       "      <td>40</td>\n",
       "      <td>United-States</td>\n",
       "      <td>&lt;=50K</td>\n",
       "    </tr>\n",
       "    <tr>\n",
       "      <th>1</th>\n",
       "      <td>Brandise Tripony</td>\n",
       "      <td>6/7/1988</td>\n",
       "      <td>150-19-2766</td>\n",
       "      <td>61523</td>\n",
       "      <td>50</td>\n",
       "      <td>Self-emp-not-inc</td>\n",
       "      <td>83311</td>\n",
       "      <td>Bachelors</td>\n",
       "      <td>13</td>\n",
       "      <td>Married-civ-spouse</td>\n",
       "      <td>Exec-managerial</td>\n",
       "      <td>Husband</td>\n",
       "      <td>White</td>\n",
       "      <td>Male</td>\n",
       "      <td>0</td>\n",
       "      <td>0</td>\n",
       "      <td>13</td>\n",
       "      <td>United-States</td>\n",
       "      <td>&lt;=50K</td>\n",
       "    </tr>\n",
       "    <tr>\n",
       "      <th>2</th>\n",
       "      <td>Brenn McNeely</td>\n",
       "      <td>8/6/1991</td>\n",
       "      <td>725-59-9860</td>\n",
       "      <td>95668</td>\n",
       "      <td>38</td>\n",
       "      <td>Private</td>\n",
       "      <td>215646</td>\n",
       "      <td>HS-grad</td>\n",
       "      <td>9</td>\n",
       "      <td>Divorced</td>\n",
       "      <td>Handlers-cleaners</td>\n",
       "      <td>Not-in-family</td>\n",
       "      <td>White</td>\n",
       "      <td>Male</td>\n",
       "      <td>0</td>\n",
       "      <td>0</td>\n",
       "      <td>40</td>\n",
       "      <td>United-States</td>\n",
       "      <td>&lt;=50K</td>\n",
       "    </tr>\n",
       "    <tr>\n",
       "      <th>3</th>\n",
       "      <td>Dorry Poter</td>\n",
       "      <td>4/6/2009</td>\n",
       "      <td>659-57-4974</td>\n",
       "      <td>25503</td>\n",
       "      <td>53</td>\n",
       "      <td>Private</td>\n",
       "      <td>234721</td>\n",
       "      <td>11th</td>\n",
       "      <td>7</td>\n",
       "      <td>Married-civ-spouse</td>\n",
       "      <td>Handlers-cleaners</td>\n",
       "      <td>Husband</td>\n",
       "      <td>Black</td>\n",
       "      <td>Male</td>\n",
       "      <td>0</td>\n",
       "      <td>0</td>\n",
       "      <td>40</td>\n",
       "      <td>United-States</td>\n",
       "      <td>&lt;=50K</td>\n",
       "    </tr>\n",
       "    <tr>\n",
       "      <th>4</th>\n",
       "      <td>Dick Honnan</td>\n",
       "      <td>9/16/1951</td>\n",
       "      <td>220-93-3811</td>\n",
       "      <td>75387</td>\n",
       "      <td>28</td>\n",
       "      <td>Private</td>\n",
       "      <td>338409</td>\n",
       "      <td>Bachelors</td>\n",
       "      <td>13</td>\n",
       "      <td>Married-civ-spouse</td>\n",
       "      <td>Prof-specialty</td>\n",
       "      <td>Wife</td>\n",
       "      <td>Black</td>\n",
       "      <td>Female</td>\n",
       "      <td>0</td>\n",
       "      <td>0</td>\n",
       "      <td>40</td>\n",
       "      <td>Cuba</td>\n",
       "      <td>&lt;=50K</td>\n",
       "    </tr>\n",
       "  </tbody>\n",
       "</table>\n",
       "</div>"
      ],
      "text/plain": [
       "               Name        DOB          SSN    Zip  Age         Workclass  \\\n",
       "0  Karrie Trusslove   9/7/1967  732-14-6110  64152   39         State-gov   \n",
       "1  Brandise Tripony   6/7/1988  150-19-2766  61523   50  Self-emp-not-inc   \n",
       "2     Brenn McNeely   8/6/1991  725-59-9860  95668   38           Private   \n",
       "3       Dorry Poter   4/6/2009  659-57-4974  25503   53           Private   \n",
       "4       Dick Honnan  9/16/1951  220-93-3811  75387   28           Private   \n",
       "\n",
       "   fnlwgt  Education  Education-Num      Marital Status         Occupation  \\\n",
       "0   77516  Bachelors             13       Never-married       Adm-clerical   \n",
       "1   83311  Bachelors             13  Married-civ-spouse    Exec-managerial   \n",
       "2  215646    HS-grad              9            Divorced  Handlers-cleaners   \n",
       "3  234721       11th              7  Married-civ-spouse  Handlers-cleaners   \n",
       "4  338409  Bachelors             13  Married-civ-spouse     Prof-specialty   \n",
       "\n",
       "    Relationship   Race     Sex  Capital Gain  Capital Loss  Hours per week  \\\n",
       "0  Not-in-family  White    Male          2174             0              40   \n",
       "1        Husband  White    Male             0             0              13   \n",
       "2  Not-in-family  White    Male             0             0              40   \n",
       "3        Husband  Black    Male             0             0              40   \n",
       "4           Wife  Black  Female             0             0              40   \n",
       "\n",
       "         Country Target  \n",
       "0  United-States  <=50K  \n",
       "1  United-States  <=50K  \n",
       "2  United-States  <=50K  \n",
       "3  United-States  <=50K  \n",
       "4           Cuba  <=50K  "
      ]
     },
     "execution_count": 3,
     "metadata": {},
     "output_type": "execute_result"
    }
   ],
   "source": [
    "# affichage des 5 premières lignes du jeu de données\n",
    "adult.head(5)"
   ]
  },
  {
   "attachments": {},
   "cell_type": "markdown",
   "id": "245a04be-45c2-4497-bd30-d596f6c33819",
   "metadata": {},
   "source": [
    "**Question 1** [3 pts]: Identifier les `identifiants directs` de ce jeu de données. Justifier pourquoi vous avez choisi ces attributs. \n",
    "Conseils: Référez vous à la définition de donnée à caractère personnel définie dans le cours 1.\n",
    "\n",
    "**Réponse** : Les identifiants directs sont ***Name, DOB*** et ***SSN***\n",
    "Le nom et le SSN sont des identifiants direct et la date de naissance n'est pas un attribut direct, mais combiner avec le code postal est suffisant afin d'identifier l'individue."
   ]
  },
  {
   "attachments": {},
   "cell_type": "markdown",
   "id": "842a3364-a68c-42e0-8f9c-b5b1d26e45d7",
   "metadata": {},
   "source": [
    "**Question 2** [5 pts]: A l'aide de ces `identifiants directs`, construire la version dépersonnalisée de ce jeu de données."
   ]
  },
  {
   "cell_type": "code",
   "execution_count": 4,
   "id": "321e1363-a36b-4b13-8c12-673ddbf470d7",
   "metadata": {},
   "outputs": [],
   "source": [
    "def depersonnaliser_adult():\n",
    "    copy = adult.copy()\n",
    "    # suppression des colonnes d'identifiants directes\n",
    "    copy.drop(columns=['Name', 'DOB', 'SSN'], inplace=True)\n",
    "    return copy"
   ]
  },
  {
   "cell_type": "code",
   "execution_count": 5,
   "id": "a3e53392-8705-408b-9f06-604804e3b46d",
   "metadata": {},
   "outputs": [],
   "source": [
    "adult_depersonlise = depersonnaliser_adult()"
   ]
  },
  {
   "cell_type": "code",
   "execution_count": 6,
   "id": "ef28286b-1f2c-409d-b8a2-86730539e046",
   "metadata": {},
   "outputs": [],
   "source": [
    "assert 'Name' not in adult_depersonlise.columns\n",
    "assert 'DOB' not in adult_depersonlise.columns\n",
    "assert 'SSN' not in adult_depersonlise.columns"
   ]
  },
  {
   "attachments": {},
   "cell_type": "markdown",
   "id": "b8fd161c-80d0-42bb-8061-39b297583fe1",
   "metadata": {},
   "source": [
    "**Question 3** [1 pts]: Afficher les 5 premières ligne du jeu de données dépersonnalisé"
   ]
  },
  {
   "cell_type": "code",
   "execution_count": 29,
   "id": "b141e1ae",
   "metadata": {},
   "outputs": [
    {
     "data": {
      "text/html": [
       "<div>\n",
       "<style scoped>\n",
       "    .dataframe tbody tr th:only-of-type {\n",
       "        vertical-align: middle;\n",
       "    }\n",
       "\n",
       "    .dataframe tbody tr th {\n",
       "        vertical-align: top;\n",
       "    }\n",
       "\n",
       "    .dataframe thead th {\n",
       "        text-align: right;\n",
       "    }\n",
       "</style>\n",
       "<table border=\"1\" class=\"dataframe\">\n",
       "  <thead>\n",
       "    <tr style=\"text-align: right;\">\n",
       "      <th></th>\n",
       "      <th>Zip</th>\n",
       "      <th>Age</th>\n",
       "      <th>Workclass</th>\n",
       "      <th>fnlwgt</th>\n",
       "      <th>Education</th>\n",
       "      <th>Education-Num</th>\n",
       "      <th>Marital Status</th>\n",
       "      <th>Occupation</th>\n",
       "      <th>Relationship</th>\n",
       "      <th>Race</th>\n",
       "      <th>Sex</th>\n",
       "      <th>Capital Gain</th>\n",
       "      <th>Capital Loss</th>\n",
       "      <th>Hours per week</th>\n",
       "      <th>Country</th>\n",
       "      <th>Target</th>\n",
       "    </tr>\n",
       "  </thead>\n",
       "  <tbody>\n",
       "    <tr>\n",
       "      <th>0</th>\n",
       "      <td>64152</td>\n",
       "      <td>39</td>\n",
       "      <td>State-gov</td>\n",
       "      <td>77516</td>\n",
       "      <td>Bachelors</td>\n",
       "      <td>13</td>\n",
       "      <td>Never-married</td>\n",
       "      <td>Adm-clerical</td>\n",
       "      <td>Not-in-family</td>\n",
       "      <td>White</td>\n",
       "      <td>Male</td>\n",
       "      <td>2174</td>\n",
       "      <td>0</td>\n",
       "      <td>40</td>\n",
       "      <td>United-States</td>\n",
       "      <td>&lt;=50K</td>\n",
       "    </tr>\n",
       "    <tr>\n",
       "      <th>1</th>\n",
       "      <td>61523</td>\n",
       "      <td>50</td>\n",
       "      <td>Self-emp-not-inc</td>\n",
       "      <td>83311</td>\n",
       "      <td>Bachelors</td>\n",
       "      <td>13</td>\n",
       "      <td>Married-civ-spouse</td>\n",
       "      <td>Exec-managerial</td>\n",
       "      <td>Husband</td>\n",
       "      <td>White</td>\n",
       "      <td>Male</td>\n",
       "      <td>0</td>\n",
       "      <td>0</td>\n",
       "      <td>13</td>\n",
       "      <td>United-States</td>\n",
       "      <td>&lt;=50K</td>\n",
       "    </tr>\n",
       "    <tr>\n",
       "      <th>2</th>\n",
       "      <td>95668</td>\n",
       "      <td>38</td>\n",
       "      <td>Private</td>\n",
       "      <td>215646</td>\n",
       "      <td>HS-grad</td>\n",
       "      <td>9</td>\n",
       "      <td>Divorced</td>\n",
       "      <td>Handlers-cleaners</td>\n",
       "      <td>Not-in-family</td>\n",
       "      <td>White</td>\n",
       "      <td>Male</td>\n",
       "      <td>0</td>\n",
       "      <td>0</td>\n",
       "      <td>40</td>\n",
       "      <td>United-States</td>\n",
       "      <td>&lt;=50K</td>\n",
       "    </tr>\n",
       "    <tr>\n",
       "      <th>3</th>\n",
       "      <td>25503</td>\n",
       "      <td>53</td>\n",
       "      <td>Private</td>\n",
       "      <td>234721</td>\n",
       "      <td>11th</td>\n",
       "      <td>7</td>\n",
       "      <td>Married-civ-spouse</td>\n",
       "      <td>Handlers-cleaners</td>\n",
       "      <td>Husband</td>\n",
       "      <td>Black</td>\n",
       "      <td>Male</td>\n",
       "      <td>0</td>\n",
       "      <td>0</td>\n",
       "      <td>40</td>\n",
       "      <td>United-States</td>\n",
       "      <td>&lt;=50K</td>\n",
       "    </tr>\n",
       "    <tr>\n",
       "      <th>4</th>\n",
       "      <td>75387</td>\n",
       "      <td>28</td>\n",
       "      <td>Private</td>\n",
       "      <td>338409</td>\n",
       "      <td>Bachelors</td>\n",
       "      <td>13</td>\n",
       "      <td>Married-civ-spouse</td>\n",
       "      <td>Prof-specialty</td>\n",
       "      <td>Wife</td>\n",
       "      <td>Black</td>\n",
       "      <td>Female</td>\n",
       "      <td>0</td>\n",
       "      <td>0</td>\n",
       "      <td>40</td>\n",
       "      <td>Cuba</td>\n",
       "      <td>&lt;=50K</td>\n",
       "    </tr>\n",
       "  </tbody>\n",
       "</table>\n",
       "</div>"
      ],
      "text/plain": [
       "     Zip  Age         Workclass  fnlwgt  Education  Education-Num  \\\n",
       "0  64152   39         State-gov   77516  Bachelors             13   \n",
       "1  61523   50  Self-emp-not-inc   83311  Bachelors             13   \n",
       "2  95668   38           Private  215646    HS-grad              9   \n",
       "3  25503   53           Private  234721       11th              7   \n",
       "4  75387   28           Private  338409  Bachelors             13   \n",
       "\n",
       "       Marital Status         Occupation   Relationship   Race     Sex  \\\n",
       "0       Never-married       Adm-clerical  Not-in-family  White    Male   \n",
       "1  Married-civ-spouse    Exec-managerial        Husband  White    Male   \n",
       "2            Divorced  Handlers-cleaners  Not-in-family  White    Male   \n",
       "3  Married-civ-spouse  Handlers-cleaners        Husband  Black    Male   \n",
       "4  Married-civ-spouse     Prof-specialty           Wife  Black  Female   \n",
       "\n",
       "   Capital Gain  Capital Loss  Hours per week        Country Target  \n",
       "0          2174             0              40  United-States  <=50K  \n",
       "1             0             0              13  United-States  <=50K  \n",
       "2             0             0              40  United-States  <=50K  \n",
       "3             0             0              40  United-States  <=50K  \n",
       "4             0             0              40           Cuba  <=50K  "
      ]
     },
     "execution_count": 29,
     "metadata": {},
     "output_type": "execute_result"
    }
   ],
   "source": [
    "adult_depersonlise.head(5)"
   ]
  },
  {
   "attachments": {},
   "cell_type": "markdown",
   "id": "3461d69d-950a-47a0-bb40-05f47109a41a",
   "metadata": {},
   "source": [
    "**Question 4** [3 pts]: En utilisant `pandas`, écrire un code qui renvoit uniquement la ligne corespondant à l'enregistrement de `Faith McCloughlin` à partir du jeu de donnée original `adult`"
   ]
  },
  {
   "cell_type": "code",
   "execution_count": 8,
   "id": "1ef38c96-ce04-4a31-9cc9-ab7be8befd1c",
   "metadata": {},
   "outputs": [],
   "source": [
    "def get_McCloughlin_row():\n",
    "    # recherche de la ligne de l'article de \"Faith McCloughlin\"\n",
    "    return adult[adult['Name'] == 'Faith McCloughlin']"
   ]
  },
  {
   "cell_type": "code",
   "execution_count": 9,
   "id": "a1c465bc-2275-44d5-a0a7-625a18d8b666",
   "metadata": {},
   "outputs": [
    {
     "data": {
      "text/html": [
       "<div>\n",
       "<style scoped>\n",
       "    .dataframe tbody tr th:only-of-type {\n",
       "        vertical-align: middle;\n",
       "    }\n",
       "\n",
       "    .dataframe tbody tr th {\n",
       "        vertical-align: top;\n",
       "    }\n",
       "\n",
       "    .dataframe thead th {\n",
       "        text-align: right;\n",
       "    }\n",
       "</style>\n",
       "<table border=\"1\" class=\"dataframe\">\n",
       "  <thead>\n",
       "    <tr style=\"text-align: right;\">\n",
       "      <th></th>\n",
       "      <th>Name</th>\n",
       "      <th>DOB</th>\n",
       "      <th>SSN</th>\n",
       "      <th>Zip</th>\n",
       "      <th>Age</th>\n",
       "      <th>Workclass</th>\n",
       "      <th>fnlwgt</th>\n",
       "      <th>Education</th>\n",
       "      <th>Education-Num</th>\n",
       "      <th>Marital Status</th>\n",
       "      <th>Occupation</th>\n",
       "      <th>Relationship</th>\n",
       "      <th>Race</th>\n",
       "      <th>Sex</th>\n",
       "      <th>Capital Gain</th>\n",
       "      <th>Capital Loss</th>\n",
       "      <th>Hours per week</th>\n",
       "      <th>Country</th>\n",
       "      <th>Target</th>\n",
       "    </tr>\n",
       "  </thead>\n",
       "  <tbody>\n",
       "    <tr>\n",
       "      <th>11019</th>\n",
       "      <td>Faith McCloughlin</td>\n",
       "      <td>12/25/1984</td>\n",
       "      <td>718-79-8158</td>\n",
       "      <td>41277</td>\n",
       "      <td>30</td>\n",
       "      <td>Private</td>\n",
       "      <td>132565</td>\n",
       "      <td>Some-college</td>\n",
       "      <td>10</td>\n",
       "      <td>Never-married</td>\n",
       "      <td>Craft-repair</td>\n",
       "      <td>Unmarried</td>\n",
       "      <td>White</td>\n",
       "      <td>Male</td>\n",
       "      <td>0</td>\n",
       "      <td>0</td>\n",
       "      <td>40</td>\n",
       "      <td>United-States</td>\n",
       "      <td>&lt;=50K</td>\n",
       "    </tr>\n",
       "  </tbody>\n",
       "</table>\n",
       "</div>"
      ],
      "text/plain": [
       "                    Name         DOB          SSN    Zip  Age Workclass  \\\n",
       "11019  Faith McCloughlin  12/25/1984  718-79-8158  41277   30   Private   \n",
       "\n",
       "       fnlwgt     Education  Education-Num Marital Status    Occupation  \\\n",
       "11019  132565  Some-college             10  Never-married  Craft-repair   \n",
       "\n",
       "      Relationship   Race   Sex  Capital Gain  Capital Loss  Hours per week  \\\n",
       "11019    Unmarried  White  Male             0             0              40   \n",
       "\n",
       "             Country Target  \n",
       "11019  United-States  <=50K  "
      ]
     },
     "execution_count": 9,
     "metadata": {},
     "output_type": "execute_result"
    }
   ],
   "source": [
    "McCloughlin_row = get_McCloughlin_row()\n",
    "McCloughlin_row"
   ]
  },
  {
   "cell_type": "code",
   "execution_count": 10,
   "id": "add868a4-2304-4521-afd4-18e7f3108522",
   "metadata": {},
   "outputs": [],
   "source": [
    "assert len(McCloughlin_row) == 1\n",
    "assert McCloughlin_row['SSN'].iloc[0] == '718-79-8158'"
   ]
  },
  {
   "attachments": {},
   "cell_type": "markdown",
   "id": "877c9491-f3e2-4f13-a6a1-4fe2bd137c27",
   "metadata": {},
   "source": [
    "**Question 5** [2 pts]:  À l'aide de l'enregistrement `McCloughlin_row`, récupérer les quasi-identifiants `Zip`, `Age` et `Sex` de `Faith McCloughlin`."
   ]
  },
  {
   "cell_type": "code",
   "execution_count": 11,
   "id": "fc277d51",
   "metadata": {},
   "outputs": [
    {
     "data": {
      "text/plain": [
       "(11019    41277\n",
       " Name: Zip, dtype: int64,\n",
       " 11019    30\n",
       " Name: Age, dtype: int64,\n",
       " 11019    Male\n",
       " Name: Sex, dtype: object)"
      ]
     },
     "execution_count": 11,
     "metadata": {},
     "output_type": "execute_result"
    }
   ],
   "source": [
    "# affichage des quasi-identifiants de la ligne de \"Faith McCloughlin\", soit les colonnes 'Age', 'Zip', 'Sex'\n",
    "McCloughlin_row['Zip'], McCloughlin_row['Age'], McCloughlin_row['Sex']\n"
   ]
  },
  {
   "attachments": {},
   "cell_type": "markdown",
   "id": "0a940873-8426-4b6a-894b-b58b5532eb71",
   "metadata": {},
   "source": [
    "**Question 6** [5 pts]:  En utilisant ces quasi-identifiants, effectuer une attaque de `ré-identification` de `Faith McCloughlin` à partir du jeu de données dépersonnalisé `Faith McCloughlin`."
   ]
  },
  {
   "cell_type": "code",
   "execution_count": 12,
   "id": "84b862c2-0db4-4829-93e1-2f3e2d2c39f8",
   "metadata": {},
   "outputs": [],
   "source": [
    "def recover_McCloughlin_row():\n",
    "    # Trouver la ligne de \"Faith McCloughlin\" dans le jeu de données dépersonnalisé avec les quasi-identifiants\n",
    "    return adult_depersonlise[(adult_depersonlise['Age'] == McCloughlin_row['Age'].iloc[0]) & (adult_depersonlise['Zip'] == McCloughlin_row['Zip'].iloc[0]) & (adult_depersonlise['Sex'] == McCloughlin_row['Sex'].iloc[0])]"
   ]
  },
  {
   "cell_type": "code",
   "execution_count": 13,
   "id": "e596519a-a287-4d52-8e04-4f703a5ddc5a",
   "metadata": {},
   "outputs": [
    {
     "data": {
      "text/html": [
       "<div>\n",
       "<style scoped>\n",
       "    .dataframe tbody tr th:only-of-type {\n",
       "        vertical-align: middle;\n",
       "    }\n",
       "\n",
       "    .dataframe tbody tr th {\n",
       "        vertical-align: top;\n",
       "    }\n",
       "\n",
       "    .dataframe thead th {\n",
       "        text-align: right;\n",
       "    }\n",
       "</style>\n",
       "<table border=\"1\" class=\"dataframe\">\n",
       "  <thead>\n",
       "    <tr style=\"text-align: right;\">\n",
       "      <th></th>\n",
       "      <th>Zip</th>\n",
       "      <th>Age</th>\n",
       "      <th>Workclass</th>\n",
       "      <th>fnlwgt</th>\n",
       "      <th>Education</th>\n",
       "      <th>Education-Num</th>\n",
       "      <th>Marital Status</th>\n",
       "      <th>Occupation</th>\n",
       "      <th>Relationship</th>\n",
       "      <th>Race</th>\n",
       "      <th>Sex</th>\n",
       "      <th>Capital Gain</th>\n",
       "      <th>Capital Loss</th>\n",
       "      <th>Hours per week</th>\n",
       "      <th>Country</th>\n",
       "      <th>Target</th>\n",
       "    </tr>\n",
       "  </thead>\n",
       "  <tbody>\n",
       "    <tr>\n",
       "      <th>11019</th>\n",
       "      <td>41277</td>\n",
       "      <td>30</td>\n",
       "      <td>Private</td>\n",
       "      <td>132565</td>\n",
       "      <td>Some-college</td>\n",
       "      <td>10</td>\n",
       "      <td>Never-married</td>\n",
       "      <td>Craft-repair</td>\n",
       "      <td>Unmarried</td>\n",
       "      <td>White</td>\n",
       "      <td>Male</td>\n",
       "      <td>0</td>\n",
       "      <td>0</td>\n",
       "      <td>40</td>\n",
       "      <td>United-States</td>\n",
       "      <td>&lt;=50K</td>\n",
       "    </tr>\n",
       "  </tbody>\n",
       "</table>\n",
       "</div>"
      ],
      "text/plain": [
       "         Zip  Age Workclass  fnlwgt     Education  Education-Num  \\\n",
       "11019  41277   30   Private  132565  Some-college             10   \n",
       "\n",
       "      Marital Status    Occupation Relationship   Race   Sex  Capital Gain  \\\n",
       "11019  Never-married  Craft-repair    Unmarried  White  Male             0   \n",
       "\n",
       "       Capital Loss  Hours per week        Country Target  \n",
       "11019             0              40  United-States  <=50K  "
      ]
     },
     "execution_count": 13,
     "metadata": {},
     "output_type": "execute_result"
    }
   ],
   "source": [
    "McCloughlin_recovered_row = recover_McCloughlin_row()\n",
    "McCloughlin_recovered_row"
   ]
  },
  {
   "attachments": {},
   "cell_type": "markdown",
   "id": "97686fff-c691-402b-81ff-70d53944f0c5",
   "metadata": {},
   "source": [
    "**Question 7** [2 pts]:  Montrer que la connaissance du `Zip` suffit pour ré-identifier `Faith McCloughlin`"
   ]
  },
  {
   "cell_type": "code",
   "execution_count": 14,
   "id": "0a15298b",
   "metadata": {},
   "outputs": [
    {
     "data": {
      "text/plain": [
       "1"
      ]
     },
     "execution_count": 14,
     "metadata": {},
     "output_type": "execute_result"
    }
   ],
   "source": [
    "adult_depersonlise[(adult_depersonlise['Zip'] == McCloughlin_row['Zip'].iloc[0])].shape[0]"
   ]
  },
  {
   "cell_type": "markdown",
   "id": "9260e4a2",
   "metadata": {},
   "source": [
    "**Réponse :** On peut dire que le Zip suffit, car il n'y a qu'une seule rangé avec ce code zip"
   ]
  },
  {
   "attachments": {},
   "cell_type": "markdown",
   "id": "1b1da2ed-221b-4f8c-a491-398994e321b6",
   "metadata": {},
   "source": [
    "**Question 8** [4 pts]:  Peut-on dire la même chose de l'attribut `Age`? Même question pour l'attribut `Sex`."
   ]
  },
  {
   "cell_type": "code",
   "execution_count": 15,
   "id": "c0b274e7",
   "metadata": {},
   "outputs": [
    {
     "data": {
      "text/plain": [
       "861"
      ]
     },
     "execution_count": 15,
     "metadata": {},
     "output_type": "execute_result"
    }
   ],
   "source": [
    "adult_depersonlise[(adult_depersonlise['Age'] == McCloughlin_row['Age'].iloc[0])].shape[0]\n"
   ]
  },
  {
   "cell_type": "code",
   "execution_count": 16,
   "id": "4451bd84",
   "metadata": {},
   "outputs": [
    {
     "data": {
      "text/plain": [
       "21790"
      ]
     },
     "execution_count": 16,
     "metadata": {},
     "output_type": "execute_result"
    }
   ],
   "source": [
    "\n",
    "adult_depersonlise[(adult_depersonlise['Sex'] == McCloughlin_row['Sex'].iloc[0])].shape[0]"
   ]
  },
  {
   "cell_type": "markdown",
   "id": "a3f1a423",
   "metadata": {},
   "source": [
    "**Réponse :** On ne peut pas dire la même chose pour l'attribut Age et l'attribut Sex. Il y a 861 entrée avec la même age que Faith McCloughlin et il y a 21790 entrée avec le même sex que Faith McCloughlin."
   ]
  },
  {
   "attachments": {},
   "cell_type": "markdown",
   "id": "78f66211-d03f-406e-b0a3-0233353aaba4",
   "metadata": {},
   "source": [
    "**Question 9** [2 pts]:  Combien de personnes peut-on réidentifier de manière unique avec la connaissance de l'attribut `Zip`? Même question pour l'attribut `DOB`."
   ]
  },
  {
   "cell_type": "code",
   "execution_count": 17,
   "id": "f91eda66",
   "metadata": {},
   "outputs": [
    {
     "data": {
      "text/plain": [
       "23513"
      ]
     },
     "execution_count": 17,
     "metadata": {},
     "output_type": "execute_result"
    }
   ],
   "source": [
    "(adult['Zip'].value_counts() == 1).sum()"
   ]
  },
  {
   "cell_type": "code",
   "execution_count": 18,
   "id": "e4d8b826",
   "metadata": {},
   "outputs": [
    {
     "data": {
      "text/plain": [
       "7845"
      ]
     },
     "execution_count": 18,
     "metadata": {},
     "output_type": "execute_result"
    }
   ],
   "source": [
    "(adult['DOB'].value_counts() == 1).sum()"
   ]
  },
  {
   "cell_type": "markdown",
   "id": "6c86e493",
   "metadata": {},
   "source": [
    "**Réponse :** 23513 personnes peuvent être identifier avec leur code Zip et 7845 personnes peuvent être identifier avec leur date de naissance."
   ]
  },
  {
   "attachments": {},
   "cell_type": "markdown",
   "id": "7b0c6545-0cc4-4988-ac68-babd3dd7c557",
   "metadata": {},
   "source": [
    "**Question 10** [4 pts]:  Combien de personnes peut-on réidentifier avec une chance de 1/2 (resp. 1/3) avec la connaissance de l'attribut `Zip`? Même question pour l'attribut `DOB`"
   ]
  },
  {
   "cell_type": "code",
   "execution_count": 19,
   "id": "54250181",
   "metadata": {},
   "outputs": [
    {
     "name": "stdout",
     "output_type": "stream",
     "text": [
      "Zip - 1/2 chance: 3835 1/3 chance: 398\n",
      "DOB - 1/2 chance: 5470 1/3 chance: 2660\n"
     ]
    },
    {
     "ename": "Exception",
     "evalue": "Pas certain de la réponse",
     "output_type": "error",
     "traceback": [
      "\u001b[1;31m---------------------------------------------------------------------------\u001b[0m",
      "\u001b[1;31mException\u001b[0m                                 Traceback (most recent call last)",
      "Cell \u001b[1;32mIn[19], line 14\u001b[0m\n\u001b[0;32m     11\u001b[0m \u001b[38;5;28mprint\u001b[39m(\u001b[38;5;124m\"\u001b[39m\u001b[38;5;124mZip - 1/2 chance:\u001b[39m\u001b[38;5;124m\"\u001b[39m, num_reidentifiable_half_zip, \u001b[38;5;124m\"\u001b[39m\u001b[38;5;124m1/3 chance:\u001b[39m\u001b[38;5;124m\"\u001b[39m, num_reidentifiable_third_zip)\n\u001b[0;32m     12\u001b[0m \u001b[38;5;28mprint\u001b[39m(\u001b[38;5;124m\"\u001b[39m\u001b[38;5;124mDOB - 1/2 chance:\u001b[39m\u001b[38;5;124m\"\u001b[39m, num_reidentifiable_half_dob, \u001b[38;5;124m\"\u001b[39m\u001b[38;5;124m1/3 chance:\u001b[39m\u001b[38;5;124m\"\u001b[39m, num_reidentifiable_third_dob)\n\u001b[1;32m---> 14\u001b[0m \u001b[38;5;28;01mraise\u001b[39;00m \u001b[38;5;167;01mException\u001b[39;00m(\u001b[38;5;124m\"\u001b[39m\u001b[38;5;124mPas certain de la réponse\u001b[39m\u001b[38;5;124m\"\u001b[39m)\n",
      "\u001b[1;31mException\u001b[0m: Pas certain de la réponse"
     ]
    }
   ],
   "source": [
    "# For Zip attribute\n",
    "zip_counts = adult['Zip'].value_counts()\n",
    "num_reidentifiable_half_zip = (zip_counts == 2).sum()\n",
    "num_reidentifiable_third_zip = (zip_counts == 3).sum()\n",
    "\n",
    "# For DOB attribute\n",
    "dob_counts = adult['DOB'].value_counts()\n",
    "num_reidentifiable_half_dob = (dob_counts == 2).sum()\n",
    "num_reidentifiable_third_dob = (dob_counts == 3).sum()\n",
    "\n",
    "print(\"Zip - 1/2 chance:\", num_reidentifiable_half_zip, \"1/3 chance:\", num_reidentifiable_third_zip)\n",
    "print(\"DOB - 1/2 chance:\", num_reidentifiable_half_dob, \"1/3 chance:\", num_reidentifiable_third_dob)\n",
    "\n",
    "raise Exception(\"Pas certain de la réponse\")\n"
   ]
  },
  {
   "attachments": {},
   "cell_type": "markdown",
   "id": "bb5b9acd-24d2-4d6a-a6ec-16bbee8f1312",
   "metadata": {
    "tags": []
   },
   "source": [
    "## Partie 2: Attaques ciblant un jeu de données aggrégées (25 pts)\n",
    "La partie 1 montre que les jeux de données dépersonnalisés peuvent être problématique car ils permettent avec très peu d'information de réidentifier des personnes concernées.\n",
    "Dans cette partie, on s'intéresse à ce que les données aggrégées peuvent révéler sur les individus contenus dans les jeux de données originaux."
   ]
  },
  {
   "attachments": {},
   "cell_type": "markdown",
   "id": "d496b313-2d55-4cd7-a1ea-fb513956f7b8",
   "metadata": {},
   "source": [
    "### Problème des petits groupes"
   ]
  },
  {
   "attachments": {},
   "cell_type": "markdown",
   "id": "0bc8dfb2-0244-4f3f-a420-3fd564518767",
   "metadata": {},
   "source": [
    "**Question 11** [2 pts]: À l'aide de la fonction `mean`, calculer l'âge moyen des individus contenus dans le jeu de données `adult`."
   ]
  },
  {
   "cell_type": "code",
   "execution_count": 25,
   "id": "527f3e03",
   "metadata": {},
   "outputs": [
    {
     "name": "stdout",
     "output_type": "stream",
     "text": [
      "38.58164675532078\n"
     ]
    }
   ],
   "source": [
    "moyenne_age = adult['Age'].mean()\n",
    "print(moyenne_age)"
   ]
  },
  {
   "attachments": {},
   "cell_type": "markdown",
   "id": "f42e0c4f-6d95-46aa-937a-b0d4b217c01f",
   "metadata": {},
   "source": [
    "**Question 12** [2 pts]: À l'aide des fonctions `mean` et `groupby`, calculer l'âge moyen *groupé par pays* des individus contenus dans le jeu de données `adult`."
   ]
  },
  {
   "cell_type": "code",
   "execution_count": 45,
   "id": "9a34831d",
   "metadata": {},
   "outputs": [
    {
     "name": "stdout",
     "output_type": "stream",
     "text": [
      "Country\n",
      "Cambodia                      37.789474\n",
      "Canada                        42.545455\n",
      "China                         42.533333\n",
      "Columbia                      39.711864\n",
      "Cuba                          45.768421\n",
      "Dominican-Republic            37.728571\n",
      "Ecuador                       36.642857\n",
      "El-Salvador                   34.132075\n",
      "England                       41.155556\n",
      "France                        38.965517\n",
      "Germany                       39.255474\n",
      "Greece                        46.206897\n",
      "Guatemala                     32.421875\n",
      "Haiti                         38.272727\n",
      "Holand-Netherlands            32.000000\n",
      "Honduras                      33.846154\n",
      "Hong                          33.650000\n",
      "Hungary                       49.384615\n",
      "India                         38.090000\n",
      "Iran                          39.418605\n",
      "Ireland                       36.458333\n",
      "Italy                         46.424658\n",
      "Jamaica                       35.592593\n",
      "Japan                         38.241935\n",
      "Laos                          34.722222\n",
      "Mexico                        33.290824\n",
      "Nicaragua                     33.617647\n",
      "Outlying-US(Guam-USVI-etc)    38.714286\n",
      "Peru                          35.258065\n",
      "Philippines                   39.444444\n",
      "Poland                        43.116667\n",
      "Portugal                      40.297297\n",
      "Puerto-Rico                   40.508772\n",
      "Scotland                      40.416667\n",
      "South                         38.750000\n",
      "Taiwan                        33.823529\n",
      "Thailand                      34.944444\n",
      "Trinadad&Tobago               41.315789\n",
      "United-States                 38.655674\n",
      "Vietnam                       34.059701\n",
      "Yugoslavia                    38.812500\n",
      "Name: Age, dtype: float64\n"
     ]
    }
   ],
   "source": [
    "pays = adult.groupby('Country')\n",
    "age_par_pays = pays['Age'].mean()\n",
    "print(age_par_pays)"
   ]
  },
  {
   "attachments": {},
   "cell_type": "markdown",
   "id": "3316918c-7c5c-468d-b75f-40468e366e9d",
   "metadata": {},
   "source": [
    "**Question 13** [2 pts]: À l'aide de la fonction `value_counts`, montrer les statistiques du nombre de personnes par pays du jeu de données `adult`."
   ]
  },
  {
   "cell_type": "code",
   "execution_count": 46,
   "id": "20bb272f",
   "metadata": {},
   "outputs": [
    {
     "name": "stdout",
     "output_type": "stream",
     "text": [
      "Country\n",
      "United-States                 29170\n",
      "Mexico                          643\n",
      "Philippines                     198\n",
      "Germany                         137\n",
      "Canada                          121\n",
      "Puerto-Rico                     114\n",
      "El-Salvador                     106\n",
      "India                           100\n",
      "Cuba                             95\n",
      "England                          90\n",
      "Jamaica                          81\n",
      "South                            80\n",
      "China                            75\n",
      "Italy                            73\n",
      "Dominican-Republic               70\n",
      "Vietnam                          67\n",
      "Guatemala                        64\n",
      "Japan                            62\n",
      "Poland                           60\n",
      "Columbia                         59\n",
      "Taiwan                           51\n",
      "Haiti                            44\n",
      "Iran                             43\n",
      "Portugal                         37\n",
      "Nicaragua                        34\n",
      "Peru                             31\n",
      "France                           29\n",
      "Greece                           29\n",
      "Ecuador                          28\n",
      "Ireland                          24\n",
      "Hong                             20\n",
      "Cambodia                         19\n",
      "Trinadad&Tobago                  19\n",
      "Laos                             18\n",
      "Thailand                         18\n",
      "Yugoslavia                       16\n",
      "Outlying-US(Guam-USVI-etc)       14\n",
      "Honduras                         13\n",
      "Hungary                          13\n",
      "Scotland                         12\n",
      "Holand-Netherlands                1\n",
      "Name: count, dtype: int64\n"
     ]
    }
   ],
   "source": [
    "pays = adult['Country']\n",
    "nb_personnes_par_pays = pays.value_counts()\n",
    "print(nb_personnes_par_pays)"
   ]
  },
  {
   "attachments": {},
   "cell_type": "markdown",
   "id": "55b4d297-0938-4c49-bc7f-e57648798054",
   "metadata": {},
   "source": [
    "**Question 14** [5 pts]:  Que peut-on déduire de l'âge d'une certaine personne originaire des Pays-bas ?"
   ]
  },
  {
   "cell_type": "markdown",
   "id": "99c422d4",
   "metadata": {},
   "source": [
    "**Réponse:** On peut immédiatement déduire que l'âge d'une personne originaire des Pays-Bas est de 32 ans, car il y a une seule donnée associée à ce pays, et l'âge moyen de ce pays est 32 ans."
   ]
  },
  {
   "attachments": {},
   "cell_type": "markdown",
   "id": "7ff9c2f3-472f-49f7-ac41-09d86973d470",
   "metadata": {},
   "source": [
    "### Attaques de différenciation"
   ]
  },
  {
   "attachments": {},
   "cell_type": "markdown",
   "id": "e3572225-f57d-471c-ad5f-2f9472c12fec",
   "metadata": {},
   "source": [
    "Supposons maintenant que les données agrégées sont publiées chaque année et que le jeu de donnée `adult` contient les enregistrements de l'année courante."
   ]
  },
  {
   "attachments": {},
   "cell_type": "markdown",
   "id": "37fb9d6e-5121-4814-a831-6eaab181e44c",
   "metadata": {},
   "source": [
    "**Question 15** [2 pts]: À l'aide de la fonction `sum` calculer la somme des heures de travail (`Hours per week`) des individus contenus dans le jeu de données `adult` pour l'année courante."
   ]
  },
  {
   "attachments": {},
   "cell_type": "markdown",
   "id": "e8f3f5ea-4743-4c67-8e9d-2de6960479d7",
   "metadata": {},
   "source": [
    "**Question 16** [2 pts]: Sachant que seulement `Faith McCloughlin` a été ajouté au jeu de données cette année, calculer la somme des heures de travail des individus contenus dans le jeu de données `adult` l'année précédente."
   ]
  },
  {
   "attachments": {},
   "cell_type": "markdown",
   "id": "aad82e60-f38b-4c5c-92c6-8502d2ebe310",
   "metadata": {},
   "source": [
    "**Question 17** [5 pts]: Déduire le nombre d'heures de travail de `Faith McCloughlin`"
   ]
  },
  {
   "attachments": {},
   "cell_type": "markdown",
   "id": "02d115c2-6809-48e6-9fd4-4e63097d2526",
   "metadata": {},
   "source": [
    "**Question 18** [5 pts]: Proposer une méthode pour déduire le nombre d'heures de travail si au lieu de la `somme des heures de travail`, c'est la `moyenne des heures de travail` qui est publiée chaque année."
   ]
  },
  {
   "attachments": {},
   "cell_type": "markdown",
   "id": "295d36b2-049a-4009-b920-4ccbafe8d0d1",
   "metadata": {},
   "source": [
    "## Partie 3: Anonymat (39 pts)\n"
   ]
  },
  {
   "attachments": {},
   "cell_type": "markdown",
   "id": "30bc3d7b-7ef4-4507-9d0e-0464cc2780d5",
   "metadata": {},
   "source": [
    "Pour cette partie on utilisera le jeu de donnée suivant:"
   ]
  },
  {
   "cell_type": "code",
   "execution_count": null,
   "id": "a1629bd9-80b7-46c4-9a10-2d2a9fedf924",
   "metadata": {},
   "outputs": [],
   "source": [
    "# importation du jeux de données\n",
    "adult_df = pd.read_csv('https://github.com/tisl-lab/data-privacy-class/blob/main/data/adult_small.csv?raw=true')"
   ]
  },
  {
   "attachments": {},
   "cell_type": "markdown",
   "id": "1ff18a6a-172c-422d-9291-433c27d6fdce",
   "metadata": {},
   "source": [
    "**Question 19** [3 pts]: Expliquer en trois ou quatre phrases un algorithme pouvant vérifier étant donné un jeu de données `D`, une liste `QIDs` de quasi-identifiants et un paramètre `k` que `D` est **k-anonymisé**"
   ]
  },
  {
   "attachments": {},
   "cell_type": "markdown",
   "id": "d4476138-6d94-4d2b-849b-53d1c381e6d5",
   "metadata": {},
   "source": [
    "**Question 20** [5 pts]: Proposer une implémentation de cet algorithme qui devra prendre en entrée un dataframe `df`, une liste de quasi-identifiant `QIDs` et le paramètre de k-anonymat `k`."
   ]
  },
  {
   "attachments": {},
   "cell_type": "markdown",
   "id": "ade1a88b-62fc-4c71-9fd4-a882931ae467",
   "metadata": {},
   "source": [
    "**Question 21** [2 pts]: Est-ce que ce le jeu de données `adult_df` satisfait le 2-anonymat pour QIDs = `[\"Sex\", \"Race\"]`?"
   ]
  },
  {
   "attachments": {},
   "cell_type": "markdown",
   "id": "0e3de5b1-57a8-4491-acba-c93088655957",
   "metadata": {},
   "source": [
    "**Question 22** [3 pts]: Donner la liste des pairs de quasi-identifiants pour lesquels `adult_df` satisfait le 2-anonymat."
   ]
  },
  {
   "attachments": {},
   "cell_type": "markdown",
   "id": "afbaaa68-e9f4-4d58-a85a-1125ef47e487",
   "metadata": {},
   "source": [
    "**Question 23** [3 pts]: Donner la liste des pairs de quasi-identifiants pour lesquels `adult_df` satisfait le 5-anonymat."
   ]
  },
  {
   "attachments": {},
   "cell_type": "markdown",
   "id": "841f41de-8b85-42ce-bcf4-d8daeaade1e5",
   "metadata": {},
   "source": [
    "**Question 24** [3 pts]: Donner la liste des triplets de quasi-identifiants pour lesquels `adult_df` satisfait le 2-anonymat."
   ]
  },
  {
   "attachments": {},
   "cell_type": "markdown",
   "id": "8cb74d89-0981-490d-b682-cb8a30bc1d56",
   "metadata": {},
   "source": [
    "**Question 25** [3 pts]: Expliquer en trois ou quatre phrases comment l'algorithme précédent pourrait être modifié pour vérifier qu'un jeu de données anonymisé satisfait la **l-diversité** pour un attribut sensible `s`."
   ]
  },
  {
   "attachments": {},
   "cell_type": "markdown",
   "id": "84727c2f-e1aa-4ba6-aec3-1246b6f33db4",
   "metadata": {},
   "source": [
    "**Question 26** [5 pts]: Proposer une implémentation de cet algorithme qui devra prendre en entrée un dataframe `df`, une liste de quasi-identifiant `QIDs`, un attribut sensible `s`, le paramètre de k-anonymat `k` et le paramètre de l-diversité `l`."
   ]
  },
  {
   "attachments": {},
   "cell_type": "markdown",
   "id": "9ec869e2-3491-4be3-a1f1-bddcabd65e57",
   "metadata": {},
   "source": [
    "**Question 27** [2 pts]:  Est-ce que ce le jeu de données `adult_df` satisfait au 3-anonymat pour QIDs = `[\"Sex\", \"Race\"]` et à la 2-diversité pour l'attribut `Occupation`?"
   ]
  },
  {
   "attachments": {},
   "cell_type": "markdown",
   "id": "6e43979a-7cbd-403f-8c75-eca4de816d84",
   "metadata": {},
   "source": [
    "**Question 28** [5 pts]:  Étant donné le jeu de données `adult_df` qui satisfait le 3-anonymat pour QIDs = `[\"Sex\", \"Race\"]`, parmi les attributs `[\"Age\", \"Workclass\", \"Relationship\", \"Country\"]`, lesquels pourraient permettre une attaque d'homogénéité s'ils étaient publiés comme attributs sensibles?"
   ]
  },
  {
   "attachments": {},
   "cell_type": "markdown",
   "id": "e927f702-0f8c-4201-acd1-b7d40de4f942",
   "metadata": {},
   "source": [
    "**Question 29** [5 pts]: Proposer un algorithme pour généraliser l'attribut `Zip` en transformant les `n` derniers chiffres en `0`. Votre algorithme devra retourner la version transformée du jeu de données."
   ]
  }
 ],
 "metadata": {
  "kernelspec": {
   "display_name": "Python 3 (ipykernel)",
   "language": "python",
   "name": "python3"
  },
  "language_info": {
   "codemirror_mode": {
    "name": "ipython",
    "version": 3
   },
   "file_extension": ".py",
   "mimetype": "text/x-python",
   "name": "python",
   "nbconvert_exporter": "python",
   "pygments_lexer": "ipython3",
   "version": "3.9.13"
  }
 },
 "nbformat": 4,
 "nbformat_minor": 5
}
